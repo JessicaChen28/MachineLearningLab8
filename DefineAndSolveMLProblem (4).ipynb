{
 "cells": [
  {
   "cell_type": "markdown",
   "metadata": {},
   "source": [
    "# Lab 8: Define and Solve an ML Problem of Your Choosing"
   ]
  },
  {
   "cell_type": "code",
   "execution_count": 1,
   "metadata": {},
   "outputs": [],
   "source": [
    "import pandas as pd\n",
    "import numpy as np\n",
    "import os \n",
    "import matplotlib.pyplot as plt\n",
    "import seaborn as sns"
   ]
  },
  {
   "cell_type": "markdown",
   "metadata": {},
   "source": [
    "In this lab assignment, you will follow the machine learning life cycle and implement a model to solve a machine learning problem of your choosing. You will select a data set and choose a predictive problem that the data set supports.  You will then inspect the data with your problem in mind and begin to formulate a  project plan. You will then implement the machine learning project plan. \n",
    "\n",
    "You will complete the following tasks:\n",
    "\n",
    "1. Build Your DataFrame\n",
    "2. Define Your ML Problem\n",
    "3. Perform exploratory data analysis to understand your data.\n",
    "4. Define Your Project Plan\n",
    "5. Implement Your Project Plan:\n",
    "    * Prepare your data for your model.\n",
    "    * Fit your model to the training data and evaluate your model.\n",
    "    * Improve your model's performance."
   ]
  },
  {
   "cell_type": "markdown",
   "metadata": {},
   "source": [
    "## Part 1: Build Your DataFrame\n",
    "\n",
    "You will have the option to choose one of four data sets that you have worked with in this program:\n",
    "\n",
    "* The \"census\" data set that contains Census information from 1994: `censusData.csv`\n",
    "* Airbnb NYC \"listings\" data set: `airbnbListingsData.csv`\n",
    "* World Happiness Report (WHR) data set: `WHR2018Chapter2OnlineData.csv`\n",
    "* Book Review data set: `bookReviewsData.csv`\n",
    "\n",
    "Note that these are variations of the data sets that you have worked with in this program. For example, some do not include some of the preprocessing necessary for specific models. \n",
    "\n",
    "#### Load a Data Set and Save it as a Pandas DataFrame\n",
    "\n",
    "The code cell below contains filenames (path + filename) for each of the four data sets available to you.\n",
    "\n",
    "<b>Task:</b> In the code cell below, use the same method you have been using to load the data using `pd.read_csv()` and save it to DataFrame `df`. \n",
    "\n",
    "You can load each file as a new DataFrame to inspect the data before choosing your data set."
   ]
  },
  {
   "cell_type": "code",
   "execution_count": 2,
   "metadata": {},
   "outputs": [],
   "source": [
    "# File names of the four data sets\n",
    "adultDataSet_filename = os.path.join(os.getcwd(), \"data\", \"censusData.csv\")\n",
    "airbnbDataSet_filename = os.path.join(os.getcwd(), \"data\", \"airbnbListingsData.csv\")\n",
    "WHRDataSet_filename = os.path.join(os.getcwd(), \"data\", \"WHR2018Chapter2OnlineData.csv\")\n",
    "bookReviewDataSet_filename = os.path.join(os.getcwd(), \"data\", \"bookReviewsData.csv\")\n",
    "\n",
    "\n",
    "# YOUR CODE HERE\n",
    "df = pd.read_csv(airbnbDataSet_filename, header = 0)\n"
   ]
  },
  {
   "cell_type": "markdown",
   "metadata": {},
   "source": [
    "## Part 2: Define Your ML Problem\n",
    "\n",
    "Next you will formulate your ML Problem. In the markdown cell below, answer the following questions:\n",
    "\n",
    "1. List the data set you have chosen.\n",
    "2. What will you be predicting? What is the label?\n",
    "3. Is this a supervised or unsupervised learning problem? Is this a clustering, classification or regression problem? Is it a binary classificaiton or multi-class classifiction problem?\n",
    "4. What are your features? (note: this list may change after your explore your data)\n",
    "5. Explain why this is an important problem. In other words, how would a company create value with a model that predicts this label?"
   ]
  },
  {
   "cell_type": "markdown",
   "metadata": {},
   "source": [
    "Data Set : Airbnb \n",
    "Prediction : Based on the description, I want a NLP, to look at the description and predit the price of the listing. The label will be the price column\n",
    "This is a supervised learning problem, since we are using description as a input and price as the label. It's a regression problem since we are predicting numbers. \n",
    "My features are \"description\".\n",
    "This machine learning problem can help with price optimization, it can help give the host a idea of pricing based on the how the host describes it. This could also help with fake listings, some people lie about the description.\n",
    "\n",
    "-----\n",
    "\n"
   ]
  },
  {
   "cell_type": "markdown",
   "metadata": {},
   "source": [
    "## Part 3: Understand Your Data\n",
    "\n",
    "The next step is to perform exploratory data analysis. Inspect and analyze your data set with your machine learning problem in mind. Consider the following as you inspect your data:\n",
    "\n",
    "1. What data preparation techniques would you like to use? These data preparation techniques may include:\n",
    "\n",
    "    * addressing missingness, such as replacing missing values with means\n",
    "    * finding and replacing outliers\n",
    "    * renaming features and labels\n",
    "    * finding and replacing outliers\n",
    "    * performing feature engineering techniques such as one-hot encoding on categorical features\n",
    "    * selecting appropriate features and removing irrelevant features\n",
    "    * performing specific data cleaning and preprocessing techniques for an NLP problem\n",
    "    * addressing class imbalance in your data sample to promote fair AI\n",
    "    \n",
    "\n",
    "2. What machine learning model (or models) you would like to use that is suitable for your predictive problem and data?\n",
    "    * Are there other data preparation techniques that you will need to apply to build a balanced modeling data set for your problem and model? For example, will you need to scale your data?\n",
    " \n",
    " \n",
    "3. How will you evaluate and improve the model's performance?\n",
    "    * Are there specific evaluation metrics and methods that are appropriate for your model?\n",
    "    \n",
    "\n",
    "Think of the different techniques you have used to inspect and analyze your data in this course. These include using Pandas to apply data filters, using the Pandas `describe()` method to get insight into key statistics for each column, using the Pandas `dtypes` property to inspect the data type of each column, and using Matplotlib and Seaborn to detect outliers and visualize relationships between features and labels. If you are working on a classification problem, use techniques you have learned to determine if there is class imbalance.\n",
    "\n",
    "<b>Task</b>: Use the techniques you have learned in this course to inspect and analyze your data. You can import additional packages that you have used in this course that you will need to perform this task.\n",
    "\n",
    "<b>Note</b>: You can add code cells if needed by going to the <b>Insert</b> menu and clicking on <b>Insert Cell Below</b> in the drop-drown menu."
   ]
  },
  {
   "cell_type": "code",
   "execution_count": 3,
   "metadata": {},
   "outputs": [
    {
     "name": "stdout",
     "output_type": "stream",
     "text": [
      "Index(['name', 'description', 'neighborhood_overview', 'host_name',\n",
      "       'host_location', 'host_about', 'host_response_rate',\n",
      "       'host_acceptance_rate', 'host_is_superhost', 'host_listings_count',\n",
      "       'host_total_listings_count', 'host_has_profile_pic',\n",
      "       'host_identity_verified', 'neighbourhood_group_cleansed', 'room_type',\n",
      "       'accommodates', 'bathrooms', 'bedrooms', 'beds', 'amenities', 'price',\n",
      "       'minimum_nights', 'maximum_nights', 'minimum_minimum_nights',\n",
      "       'maximum_minimum_nights', 'minimum_maximum_nights',\n",
      "       'maximum_maximum_nights', 'minimum_nights_avg_ntm',\n",
      "       'maximum_nights_avg_ntm', 'has_availability', 'availability_30',\n",
      "       'availability_60', 'availability_90', 'availability_365',\n",
      "       'number_of_reviews', 'number_of_reviews_ltm', 'number_of_reviews_l30d',\n",
      "       'review_scores_rating', 'review_scores_cleanliness',\n",
      "       'review_scores_checkin', 'review_scores_communication',\n",
      "       'review_scores_location', 'review_scores_value', 'instant_bookable',\n",
      "       'calculated_host_listings_count',\n",
      "       'calculated_host_listings_count_entire_homes',\n",
      "       'calculated_host_listings_count_private_rooms',\n",
      "       'calculated_host_listings_count_shared_rooms', 'reviews_per_month',\n",
      "       'n_host_verifications'],\n",
      "      dtype='object')\n",
      "0        Beautiful, spacious skylit studio in the heart...\n",
      "1        Enjoy 500 s.f. top floor in 1899 brownstone, w...\n",
      "2        We welcome you to stay in our lovely 2 br dupl...\n",
      "3        Please don’t expect the luxury here just a bas...\n",
      "4        Our best guests are seeking a safe, clean, spa...\n",
      "                               ...                        \n",
      "28017    THIS LOVELY HOME IS THE SPACIOUS SUITE WITH PR...\n",
      "28018    Just fully renovated from head to toe. On the ...\n",
      "28019    Amazing and comfortable space in Brooklyn, sam...\n",
      "28020    This stylish place to stay is perfect for a gr...\n",
      "28021    Private bedroom on its own floor with very lar...\n",
      "Name: description, Length: 28022, dtype: object\n",
      "0         150.0\n",
      "1          75.0\n",
      "2         275.0\n",
      "3          68.0\n",
      "4          75.0\n",
      "          ...  \n",
      "28017      89.0\n",
      "28018    1000.0\n",
      "28019      64.0\n",
      "28020      84.0\n",
      "28021      70.0\n",
      "Name: price, Length: 28022, dtype: float64\n",
      "count    28022.000000\n",
      "mean       154.228749\n",
      "std        140.816605\n",
      "min         29.000000\n",
      "25%         70.000000\n",
      "50%        115.000000\n",
      "75%        180.000000\n",
      "max       1000.000000\n",
      "Name: price, dtype: float64\n"
     ]
    },
    {
     "data": {
      "image/png": "[encoded data removed]",
      "text/plain": [
       "<Figure size 640x480 with 1 Axes>"
      ]
     },
     "metadata": {},
     "output_type": "display_data"
    },
    {
     "data": {
      "image/png": "[encoded data removed]",
      "text/plain": [
       "<Figure size 640x480 with 1 Axes>"
      ]
     },
     "metadata": {},
     "output_type": "display_data"
    },
    {
     "data": {
      "text/plain": [
       "<AxesSubplot: xlabel='price_win', ylabel='Count'>"
      ]
     },
     "execution_count": 3,
     "metadata": {},
     "output_type": "execute_result"
    },
    {
     "data": {
      "image/png": "[encoded data removed]",
      "text/plain": [
       "<Figure size 640x480 with 1 Axes>"
      ]
     },
     "metadata": {},
     "output_type": "display_data"
    }
   ],
   "source": [
    "print(df.columns)\n",
    "\n",
    "print(df['description'])\n",
    "df['description'].isnull().sum() #570 is null\n",
    "\n",
    "print(df['price'])\n",
    "\n",
    "print(df['price'].describe())\n",
    "df.dtypes\n",
    "\n",
    "import matplotlib.pyplot as plt\n",
    "import seaborn as sns\n",
    "from scipy.stats import mstats\n",
    "\n",
    "sns.boxplot(x=df['price'])\n",
    "plt.show()\n",
    "\n",
    "df['price_win'] = mstats.winsorize(df['price'], limits = [0.01,0.01])\n",
    "sns.boxplot(x=df['price_win'])\n",
    "plt.xlabel('Price Winsorize')\n",
    "plt.show()\n",
    "\n",
    "sns.histplot(df['price_win'],bins = 100)\n"
   ]
  },
  {
   "cell_type": "markdown",
   "metadata": {},
   "source": [
    "## Part 4: Define Your Project Plan\n",
    "\n",
    "Now that you understand your data, in the markdown cell below, define your plan to implement the remaining phases of the machine learning life cycle (data preparation, modeling, evaluation) to solve your ML problem. Answer the following questions:\n",
    "\n",
    "* Do you have a new feature list? If so, what are the features that you chose to keep and remove after inspecting the data? \n",
    "* Explain different data preparation techniques that you will use to prepare your data for modeling.\n",
    "* What is your model (or models)?\n",
    "* Describe your plan to train your model, analyze its performance and then improve the model. That is, describe your model building, validation and selection plan to produce a model that generalizes well to new data. "
   ]
  },
  {
   "cell_type": "markdown",
   "metadata": {},
   "source": [
    "My feature list will have description as the main feature. If I wanted to expand more on this, I could add bathrooms, bedrooms, beds, accommodates to see how the model will predict the price with these other features. As for the features I want to remove host_name, host_location, host_about, minimum_nights, maximum_nights and more. I mainly want to focus on the description. For nulls descriptions, I will add \" \", so we don't miss any listing. Eventually, I can build on this model with more features, so I don't want to miss on the 570 listings. For the outliers, I will use winsorizing for the prices, capping at 1% from bottom and the top. \n",
    "I will follow a neural network model. Similar with what we did for Unit 8. I will be using TF-IDF vectorization to transform the features. \n",
    "I want to make sure my descriptions have something, so if there's a NA, I will put \"\" in it's place. As for prices, I want to make sure that they aren't empty as well. I will split the data, so I can practice how the model will act with new data. Then vectorize the text, making sure that it's all lowercase, I noticed that there was a a review with all caps, so it will affect how the model works. I will be using mean absolute error and root mean squared error. Also I want the model to be careful of the stop words, using words such as \"the\" has no meaning.\n"
   ]
  },
  {
   "cell_type": "markdown",
   "metadata": {},
   "source": [
    "## Part 5: Implement Your Project Plan\n",
    "\n",
    "<b>Task:</b> In the code cell below, import additional packages that you have used in this course that you will need to implement your project plan."
   ]
  },
  {
   "cell_type": "code",
   "execution_count": 4,
   "metadata": {},
   "outputs": [
    {
     "name": "stderr",
     "output_type": "stream",
     "text": [
      "2025-07-30 03:45:37.211480: W tensorflow/stream_executor/platform/default/dso_loader.cc:64] Could not load dynamic library 'libcudart.so.11.0'; dlerror: libcudart.so.11.0: cannot open shared object file: No such file or directory\n",
      "2025-07-30 03:45:37.211510: I tensorflow/stream_executor/cuda/cudart_stub.cc:29] Ignore above cudart dlerror if you do not have a GPU set up on your machine.\n"
     ]
    }
   ],
   "source": [
    "# YOUR CODE HERE\n",
    "import scipy.stats as stats\n",
    "from sklearn.model_selection import train_test_split\n",
    "from sklearn.feature_extraction.text import TfidfVectorizer\n",
    "import tensorflow.keras as keras\n",
    "import time\n",
    "from sklearn.linear_model import LinearRegression\n",
    "from sklearn.metrics import mean_absolute_error, mean_squared_error"
   ]
  },
  {
   "cell_type": "markdown",
   "metadata": {},
   "source": [
    "<b>Task:</b> Use the rest of this notebook to carry out your project plan. \n",
    "\n",
    "You will:\n",
    "\n",
    "1. Prepare your data for your model.\n",
    "2. Fit your model to the training data and evaluate your model.\n",
    "3. Improve your model's performance by performing model selection and/or feature selection techniques to find best model for your problem.\n",
    "\n",
    "Add code cells below and populate the notebook with commentary, code, analyses, results, and figures as you see fit. "
   ]
  },
  {
   "cell_type": "code",
   "execution_count": 5,
   "metadata": {},
   "outputs": [
    {
     "name": "stdout",
     "output_type": "stream",
     "text": [
      "2000\n"
     ]
    }
   ],
   "source": [
    "\n",
    "df['description'] = df['description'].fillna(\"\")\n",
    "df = df.dropna(subset = ['price'])\n",
    "df['price'] = df['price'].astype('float64')\n",
    "\n",
    "#outliers\n",
    "q_low, q_high = df['price'].quantile([0.01, 0.99])\n",
    "df['price_wins'] = df['price'].clip(lower=q_low, upper=q_high)\n",
    "\n",
    "df = df.dropna(subset= ['price_wins'])\n",
    "\n",
    "X = df['description'] #feature\n",
    "y = df['price_wins'] #label\n",
    "\n",
    "\n",
    "X_train, X_test, y_train, y_test = train_test_split(X, y, test_size= 0.2, random_state=1234)\n",
    "\n",
    "tfidf_vectorizer = TfidfVectorizer(\n",
    "    lowercase = True,\n",
    "    stop_words = 'english',\n",
    "    min_df = 10,\n",
    "    max_df = 0.9,\n",
    "    max_features = 2000\n",
    ")\n",
    "tfidf_vectorizer.fit(X_train)\n",
    "X_train_tfidf = tfidf_vectorizer.transform(X_train)\n",
    "X_test_tfidf = tfidf_vectorizer.transform(X_test)\n",
    "\n",
    "vocabulary_size = len(tfidf_vectorizer.vocabulary_)\n",
    "print(vocabulary_size) \n",
    "\n",
    "\n"
   ]
  },
  {
   "cell_type": "code",
   "execution_count": 6,
   "metadata": {},
   "outputs": [
    {
     "name": "stdout",
     "output_type": "stream",
     "text": [
      "Model: \"sequential\"\n",
      "_________________________________________________________________\n",
      "Layer (type)                 Output Shape              Param #   \n",
      "=================================================================\n",
      "dense (Dense)                (None, 128)               256128    \n",
      "_________________________________________________________________\n",
      "dense_1 (Dense)              (None, 64)                8256      \n",
      "_________________________________________________________________\n",
      "dropout (Dropout)            (None, 64)                0         \n",
      "_________________________________________________________________\n",
      "dense_2 (Dense)              (None, 32)                2080      \n",
      "_________________________________________________________________\n",
      "dense_3 (Dense)              (None, 16)                528       \n",
      "_________________________________________________________________\n",
      "dense_4 (Dense)              (None, 1)                 17        \n",
      "=================================================================\n",
      "Total params: 267,009\n",
      "Trainable params: 267,009\n",
      "Non-trainable params: 0\n",
      "_________________________________________________________________\n"
     ]
    },
    {
     "name": "stderr",
     "output_type": "stream",
     "text": [
      "2025-07-30 03:45:41.561865: W tensorflow/stream_executor/platform/default/dso_loader.cc:64] Could not load dynamic library 'libcuda.so.1'; dlerror: libcuda.so.1: cannot open shared object file: No such file or directory\n",
      "2025-07-30 03:45:41.561891: W tensorflow/stream_executor/cuda/cuda_driver.cc:326] failed call to cuInit: UNKNOWN ERROR (303)\n",
      "2025-07-30 03:45:41.561908: I tensorflow/stream_executor/cuda/cuda_diagnostics.cc:156] kernel driver does not appear to be running on this host (i-0aaacc28f92bebc85): /proc/driver/nvidia/version does not exist\n",
      "2025-07-30 03:45:41.562092: I tensorflow/core/platform/cpu_feature_guard.cc:142] This TensorFlow binary is optimized with oneAPI Deep Neural Network Library (oneDNN) to use the following CPU instructions in performance-critical operations:  AVX2 FMA\n",
      "To enable them in other operations, rebuild TensorFlow with the appropriate compiler flags.\n",
      "2025-07-30 03:45:42.108812: I tensorflow/compiler/mlir/mlir_graph_optimization_pass.cc:176] None of the MLIR Optimization Passes are enabled (registered 2)\n",
      "2025-07-30 03:45:42.109224: I tensorflow/core/platform/profile_utils/cpu_utils.cc:114] CPU Frequency: 2649995000 Hz\n"
     ]
    },
    {
     "name": "stdout",
     "output_type": "stream",
     "text": [
      "Epoch 1/40\n",
      "1121/1121 [==============================] - 2s 1ms/step - loss: 12385.9365 - mse: 12385.9365 - val_loss: 10887.5986 - val_mse: 10887.5986\n",
      "Epoch [1/ 40], Loss: 12385.9365, Mse: 12385.9365, Val_loss: 10887.5986, Val_mse: 10887.5986\n",
      "Epoch 2/40\n",
      "1121/1121 [==============================] - 1s 1ms/step - loss: 9068.4219 - mse: 9068.4219 - val_loss: 11011.7588 - val_mse: 11011.7588\n",
      "Epoch [2/ 40], Loss: 9068.4219, Mse: 9068.4219, Val_loss: 11011.7588, Val_mse: 11011.7588\n",
      "Epoch 3/40\n",
      "1121/1121 [==============================] - 1s 1ms/step - loss: 7308.7993 - mse: 7308.7993 - val_loss: 11213.6426 - val_mse: 11213.6426\n",
      "Epoch [3/ 40], Loss: 7308.7993, Mse: 7308.7993, Val_loss: 11213.6426, Val_mse: 11213.6426\n",
      "Epoch 4/40\n",
      "1121/1121 [==============================] - 1s 1ms/step - loss: 5991.5605 - mse: 5991.5605 - val_loss: 11678.6240 - val_mse: 11678.6240\n",
      "Epoch [4/ 40], Loss: 5991.5605, Mse: 5991.5605, Val_loss: 11678.6240, Val_mse: 11678.6240\n",
      "Epoch 5/40\n",
      "1121/1121 [==============================] - 1s 1ms/step - loss: 4684.6035 - mse: 4684.6035 - val_loss: 11100.0449 - val_mse: 11100.0449\n",
      "Epoch [5/ 40], Loss: 4684.6035, Mse: 4684.6035, Val_loss: 11100.0449, Val_mse: 11100.0449\n",
      "Epoch 6/40\n",
      "1121/1121 [==============================] - 1s 1ms/step - loss: 3862.5461 - mse: 3862.5461 - val_loss: 11118.9570 - val_mse: 11118.9570\n",
      "Epoch [6/ 40], Loss: 3862.5461, Mse: 3862.5461, Val_loss: 11118.9570, Val_mse: 11118.9570\n",
      "Epoch 7/40\n",
      "1121/1121 [==============================] - 1s 1ms/step - loss: 3300.0298 - mse: 3300.0298 - val_loss: 11423.5410 - val_mse: 11423.5410\n",
      "Epoch [7/ 40], Loss: 3300.0298, Mse: 3300.0298, Val_loss: 11423.5410, Val_mse: 11423.5410\n",
      "Epoch 8/40\n",
      "1121/1121 [==============================] - 1s 1ms/step - loss: 3026.1853 - mse: 3026.1853 - val_loss: 11241.0781 - val_mse: 11241.0781\n",
      "Epoch [8/ 40], Loss: 3026.1853, Mse: 3026.1853, Val_loss: 11241.0781, Val_mse: 11241.0781\n",
      "Epoch 9/40\n",
      "1121/1121 [==============================] - 1s 1ms/step - loss: 2479.6577 - mse: 2479.6577 - val_loss: 10908.9521 - val_mse: 10908.9521\n",
      "Epoch [9/ 40], Loss: 2479.6577, Mse: 2479.6577, Val_loss: 10908.9521, Val_mse: 10908.9521\n",
      "Epoch 10/40\n",
      "1121/1121 [==============================] - 1s 1ms/step - loss: 2220.3042 - mse: 2220.3042 - val_loss: 11181.2910 - val_mse: 11181.2910\n",
      "Epoch [10/ 40], Loss: 2220.3042, Mse: 2220.3042, Val_loss: 11181.2910, Val_mse: 11181.2910\n",
      "Epoch 11/40\n",
      "1121/1121 [==============================] - 1s 1ms/step - loss: 2132.2437 - mse: 2132.2437 - val_loss: 11333.0977 - val_mse: 11333.0977\n",
      "Epoch [11/ 40], Loss: 2132.2437, Mse: 2132.2437, Val_loss: 11333.0977, Val_mse: 11333.0977\n",
      "Epoch 12/40\n",
      "1121/1121 [==============================] - 1s 1ms/step - loss: 1937.9263 - mse: 1937.9263 - val_loss: 11008.4512 - val_mse: 11008.4512\n",
      "Epoch [12/ 40], Loss: 1937.9263, Mse: 1937.9263, Val_loss: 11008.4512, Val_mse: 11008.4512\n",
      "Epoch 13/40\n",
      "1121/1121 [==============================] - 1s 1ms/step - loss: 1861.1033 - mse: 1861.1033 - val_loss: 10839.5371 - val_mse: 10839.5371\n",
      "Epoch [13/ 40], Loss: 1861.1033, Mse: 1861.1033, Val_loss: 10839.5371, Val_mse: 10839.5371\n",
      "Epoch 14/40\n",
      "1121/1121 [==============================] - 1s 1ms/step - loss: 1753.8373 - mse: 1753.8373 - val_loss: 11331.2939 - val_mse: 11331.2939\n",
      "Epoch [14/ 40], Loss: 1753.8373, Mse: 1753.8373, Val_loss: 11331.2939, Val_mse: 11331.2939\n",
      "Epoch 15/40\n",
      "1121/1121 [==============================] - 1s 1ms/step - loss: 1621.7340 - mse: 1621.7340 - val_loss: 11424.2285 - val_mse: 11424.2285\n",
      "Epoch [15/ 40], Loss: 1621.7340, Mse: 1621.7340, Val_loss: 11424.2285, Val_mse: 11424.2285\n",
      "Epoch 16/40\n",
      "1121/1121 [==============================] - 1s 1ms/step - loss: 1526.9762 - mse: 1526.9762 - val_loss: 10935.3438 - val_mse: 10935.3438\n",
      "Epoch [16/ 40], Loss: 1526.9762, Mse: 1526.9762, Val_loss: 10935.3438, Val_mse: 10935.3438\n",
      "Epoch 17/40\n",
      "1121/1121 [==============================] - 1s 1ms/step - loss: 1503.8511 - mse: 1503.8511 - val_loss: 11655.0615 - val_mse: 11655.0615\n",
      "Epoch [17/ 40], Loss: 1503.8511, Mse: 1503.8511, Val_loss: 11655.0615, Val_mse: 11655.0615\n",
      "Epoch 18/40\n",
      "1121/1121 [==============================] - 1s 1ms/step - loss: 1479.7571 - mse: 1479.7571 - val_loss: 11078.7803 - val_mse: 11078.7803\n",
      "Epoch [18/ 40], Loss: 1479.7571, Mse: 1479.7571, Val_loss: 11078.7803, Val_mse: 11078.7803\n",
      "Epoch 19/40\n",
      "1121/1121 [==============================] - 1s 1ms/step - loss: 1414.5105 - mse: 1414.5105 - val_loss: 11094.3896 - val_mse: 11094.3896\n",
      "Epoch [19/ 40], Loss: 1414.5105, Mse: 1414.5105, Val_loss: 11094.3896, Val_mse: 11094.3896\n",
      "Epoch 20/40\n",
      "1121/1121 [==============================] - 1s 1ms/step - loss: 1328.0570 - mse: 1328.0570 - val_loss: 11214.7441 - val_mse: 11214.7441\n",
      "Epoch [20/ 40], Loss: 1328.0570, Mse: 1328.0570, Val_loss: 11214.7441, Val_mse: 11214.7441\n",
      "Epoch 21/40\n",
      "1121/1121 [==============================] - 1s 1ms/step - loss: 1324.5093 - mse: 1324.5093 - val_loss: 11115.6279 - val_mse: 11115.6279\n",
      "Epoch [21/ 40], Loss: 1324.5093, Mse: 1324.5093, Val_loss: 11115.6279, Val_mse: 11115.6279\n",
      "Epoch 22/40\n",
      "1121/1121 [==============================] - 1s 1ms/step - loss: 1272.2710 - mse: 1272.2710 - val_loss: 11152.2949 - val_mse: 11152.2949\n",
      "Epoch [22/ 40], Loss: 1272.2710, Mse: 1272.2710, Val_loss: 11152.2949, Val_mse: 11152.2949\n",
      "Epoch 23/40\n",
      "1121/1121 [==============================] - 1s 1ms/step - loss: 1237.7284 - mse: 1237.7284 - val_loss: 11286.3965 - val_mse: 11286.3965\n",
      "Epoch [23/ 40], Loss: 1237.7284, Mse: 1237.7284, Val_loss: 11286.3965, Val_mse: 11286.3965\n",
      "Epoch 24/40\n",
      "1121/1121 [==============================] - 1s 1ms/step - loss: 1227.6456 - mse: 1227.6456 - val_loss: 10959.5469 - val_mse: 10959.5469\n",
      "Epoch [24/ 40], Loss: 1227.6456, Mse: 1227.6456, Val_loss: 10959.5469, Val_mse: 10959.5469\n",
      "Epoch 25/40\n",
      "1121/1121 [==============================] - 1s 1ms/step - loss: 1184.2670 - mse: 1184.2670 - val_loss: 11096.2793 - val_mse: 11096.2793\n",
      "Epoch [25/ 40], Loss: 1184.2670, Mse: 1184.2670, Val_loss: 11096.2793, Val_mse: 11096.2793\n",
      "Epoch 26/40\n",
      "1121/1121 [==============================] - 1s 1ms/step - loss: 1186.4745 - mse: 1186.4745 - val_loss: 10945.1670 - val_mse: 10945.1670\n",
      "Epoch [26/ 40], Loss: 1186.4745, Mse: 1186.4745, Val_loss: 10945.1670, Val_mse: 10945.1670\n",
      "Epoch 27/40\n",
      "1121/1121 [==============================] - 1s 1ms/step - loss: 1142.7711 - mse: 1142.7711 - val_loss: 10909.6680 - val_mse: 10909.6680\n",
      "Epoch [27/ 40], Loss: 1142.7711, Mse: 1142.7711, Val_loss: 10909.6680, Val_mse: 10909.6680\n",
      "Epoch 28/40\n",
      "1121/1121 [==============================] - 1s 1ms/step - loss: 1129.6034 - mse: 1129.6034 - val_loss: 11278.7568 - val_mse: 11278.7568\n",
      "Epoch [28/ 40], Loss: 1129.6034, Mse: 1129.6034, Val_loss: 11278.7568, Val_mse: 11278.7568\n",
      "Epoch 29/40\n",
      "1121/1121 [==============================] - 1s 1ms/step - loss: 1128.1298 - mse: 1128.1298 - val_loss: 10961.9746 - val_mse: 10961.9746\n",
      "Epoch [29/ 40], Loss: 1128.1298, Mse: 1128.1298, Val_loss: 10961.9746, Val_mse: 10961.9746\n",
      "Epoch 30/40\n",
      "1121/1121 [==============================] - 1s 1ms/step - loss: 1064.1626 - mse: 1064.1626 - val_loss: 11064.1367 - val_mse: 11064.1367\n",
      "Epoch [30/ 40], Loss: 1064.1626, Mse: 1064.1626, Val_loss: 11064.1367, Val_mse: 11064.1367\n",
      "Epoch 31/40\n",
      "1121/1121 [==============================] - 1s 1ms/step - loss: 1148.1173 - mse: 1148.1173 - val_loss: 11058.4863 - val_mse: 11058.4863\n",
      "Epoch [31/ 40], Loss: 1148.1173, Mse: 1148.1173, Val_loss: 11058.4863, Val_mse: 11058.4863\n",
      "Epoch 32/40\n",
      "1121/1121 [==============================] - 1s 1ms/step - loss: 1076.6724 - mse: 1076.6724 - val_loss: 11759.6006 - val_mse: 11759.6006\n",
      "Epoch [32/ 40], Loss: 1076.6724, Mse: 1076.6724, Val_loss: 11759.6006, Val_mse: 11759.6006\n",
      "Epoch 33/40\n",
      "1121/1121 [==============================] - 1s 1ms/step - loss: 1051.9172 - mse: 1051.9172 - val_loss: 10938.4326 - val_mse: 10938.4326\n",
      "Epoch [33/ 40], Loss: 1051.9172, Mse: 1051.9172, Val_loss: 10938.4326, Val_mse: 10938.4326\n",
      "Epoch 34/40\n",
      "1121/1121 [==============================] - 1s 1ms/step - loss: 1037.8086 - mse: 1037.8086 - val_loss: 10921.2910 - val_mse: 10921.2910\n",
      "Epoch [34/ 40], Loss: 1037.8086, Mse: 1037.8086, Val_loss: 10921.2910, Val_mse: 10921.2910\n",
      "Epoch 35/40\n",
      "1121/1121 [==============================] - 1s 1ms/step - loss: 1026.8226 - mse: 1026.8226 - val_loss: 10898.0723 - val_mse: 10898.0723\n",
      "Epoch [35/ 40], Loss: 1026.8226, Mse: 1026.8226, Val_loss: 10898.0723, Val_mse: 10898.0723\n",
      "Epoch 36/40\n",
      "1121/1121 [==============================] - 1s 1ms/step - loss: 1068.8285 - mse: 1068.8285 - val_loss: 10924.2861 - val_mse: 10924.2861\n",
      "Epoch [36/ 40], Loss: 1068.8285, Mse: 1068.8285, Val_loss: 10924.2861, Val_mse: 10924.2861\n",
      "Epoch 37/40\n",
      "1121/1121 [==============================] - 1s 1ms/step - loss: 992.7534 - mse: 992.7534 - val_loss: 11135.3555 - val_mse: 11135.3555\n",
      "Epoch [37/ 40], Loss: 992.7534, Mse: 992.7534, Val_loss: 11135.3555, Val_mse: 11135.3555\n",
      "Epoch 38/40\n",
      "1121/1121 [==============================] - 1s 1ms/step - loss: 972.8958 - mse: 972.8958 - val_loss: 11035.1084 - val_mse: 11035.1084\n",
      "Epoch [38/ 40], Loss: 972.8958, Mse: 972.8958, Val_loss: 11035.1084, Val_mse: 11035.1084\n",
      "Epoch 39/40\n",
      "1121/1121 [==============================] - 1s 1ms/step - loss: 965.9973 - mse: 965.9973 - val_loss: 11050.4443 - val_mse: 11050.4443\n",
      "Epoch [39/ 40], Loss: 965.9973, Mse: 965.9973, Val_loss: 11050.4443, Val_mse: 11050.4443\n",
      "Epoch 40/40\n",
      "1121/1121 [==============================] - 1s 1ms/step - loss: 969.4373 - mse: 969.4373 - val_loss: 10993.1650 - val_mse: 10993.1650\n",
      "Epoch [40/ 40], Loss: 969.4373, Mse: 969.4373, Val_loss: 10993.1650, Val_mse: 10993.1650\n",
      "Elapsed time: 49.23s\n"
     ]
    }
   ],
   "source": [
    "#model\n",
    "model = keras.Sequential()\n",
    "input_layer = keras.layers.InputLayer(input_shape=(vocabulary_size,))\n",
    "model.add(input_layer)\n",
    "\n",
    "hidden_layer_0 = keras.layers.Dense(units=128, activation='relu')\n",
    "model.add(hidden_layer_0)\n",
    "#model.add(keras.layers.Dropout(.1))\n",
    "\n",
    "hidden_layer_1 = keras.layers.Dense(units=64, activation='relu')\n",
    "model.add(hidden_layer_1)\n",
    "model.add(keras.layers.Dropout(.1))\n",
    "\n",
    "hidden_layer_2 = keras.layers.Dense(units=32, activation='relu')\n",
    "model.add(hidden_layer_2)\n",
    "#model.add(keras.layers.Dropout(.1))\n",
    "\n",
    "hidden_layer_3 = keras.layers.Dense(units=16, activation='relu')\n",
    "model.add(hidden_layer_3)\n",
    "#model.add(keras.layers.Dropout(.1))\n",
    "\n",
    "output_layer = keras.layers.Dense(units=1)\n",
    "model.add(output_layer)\n",
    "\n",
    "model.summary()\n",
    "\n",
    "ADAMoptimizer = keras.optimizers.Adam(learning_rate=0.01) #Asked ChatGPT since SGD wasn't working and give me the same results\n",
    "loss_function = keras.losses.MeanSquaredError()\n",
    "model.compile(optimizer= ADAMoptimizer, loss= loss_function , metrics=['mse'])\n",
    "\n",
    "class ProgBarLoggerNEpochs(keras.callbacks.Callback):\n",
    "    def __init__(self, num_epochs: int, every_n: int = 50):\n",
    "        self.num_epochs = num_epochs\n",
    "        self.every_n = every_n\n",
    "    def on_epoch_end(self, epoch, logs=None):\n",
    "        if (epoch + 1) % self.every_n == 0:\n",
    "            s = 'Epoch [{}/ {}]'.format(epoch + 1, self.num_epochs)\n",
    "            logs_s = ['{}: {:.4f}'.format(k.capitalize(), v)\n",
    "                      for k, v in logs.items()]\n",
    "            s_list = [s] + logs_s\n",
    "            print(', '.join(s_list))\n",
    "\n",
    "t0 = time.time() # start time\n",
    "num_epochs = 40 #epochs\n",
    "\n",
    "history = model.fit(\n",
    "    X_train_tfidf.toarray(),\n",
    "    y_train,\n",
    "    batch_size = 16,\n",
    "    epochs=num_epochs,\n",
    "    verbose=1, \n",
    "    validation_split=0.2,\n",
    "    callbacks=[ProgBarLoggerNEpochs(num_epochs, every_n=1)],\n",
    ")\n",
    "t1 = time.time() # stop time\n",
    "print('Elapsed time: %.2fs' % (t1-t0))"
   ]
  },
  {
   "cell_type": "code",
   "execution_count": 7,
   "metadata": {
    "scrolled": true
   },
   "outputs": [
    {
     "name": "stdout",
     "output_type": "stream",
     "text": [
      "Neural MAE:  $61.30\n",
      "Neural RMSE: $105.04\n",
      "Predicted = $254.52 Actual $385.00 Error $-130.48\n",
      "Predicted = $119.10 Actual $40.00 Error $79.10\n",
      "Predicted = $108.97 Actual $120.00 Error $-11.03\n",
      "Predicted = $240.98 Actual $113.00 Error $127.98\n",
      "Predicted = $137.67 Actual $80.00 Error $57.67\n",
      "Predicted = $48.10 Actual $82.00 Error $-33.90\n",
      "Predicted = $124.53 Actual $168.00 Error $-43.47\n",
      "Predicted = $181.21 Actual $45.00 Error $136.21\n",
      "Predicted = $128.26 Actual $58.00 Error $70.26\n",
      "Predicted = $170.09 Actual $170.00 Error $0.09\n",
      "Predicted = $307.88 Actual $400.00 Error $-92.12\n",
      "Predicted = $128.26 Actual $250.00 Error $-121.74\n",
      "Predicted = $49.10 Actual $100.00 Error $-50.90\n",
      "Predicted = $54.31 Actual $250.00 Error $-195.69\n",
      "Predicted = $144.98 Actual $75.00 Error $69.98\n",
      "Predicted = $104.80 Actual $60.00 Error $44.80\n",
      "Predicted = $44.69 Actual $180.00 Error $-135.31\n",
      "Predicted = $106.29 Actual $150.00 Error $-43.71\n",
      "Predicted = $335.86 Actual $898.37 Error $-562.51\n",
      "Predicted = $375.55 Actual $279.00 Error $96.55\n"
     ]
    },
    {
     "name": "stderr",
     "output_type": "stream",
     "text": [
      "/home/ubuntu/.pyenv/versions/3.9.19/lib/python3.9/site-packages/sklearn/metrics/_regression.py:483: FutureWarning: 'squared' is deprecated in version 1.4 and will be removed in 1.6. To calculate the root mean squared error, use the function'root_mean_squared_error'.\n",
      "  warnings.warn(\n"
     ]
    }
   ],
   "source": [
    "\n",
    "#predict\n",
    "nn_y_prediction = model.predict(X_test_tfidf.toarray())\n",
    "\n",
    "mae_nn  = mean_absolute_error(y_test, nn_y_prediction)\n",
    "rmse_nn = mean_squared_error(y_test, nn_y_prediction, squared=False)\n",
    "\n",
    "print(\"Neural MAE:  $%.2f\" % mae_nn)\n",
    "print(\"Neural RMSE: $%.2f\" % rmse_nn)\n",
    "\n",
    "for i in range(0,20):\n",
    "    prediction_price = nn_y_prediction[i]\n",
    "    real_price = y_test.to_numpy()[i]\n",
    "    error = prediction_price - real_price\n",
    "    print(\"Predicted = $%.2f\" % prediction_price, \"Actual $%.2f\" % real_price , \"Error $%.2f\" % error)\n",
    "\n"
   ]
  },
  {
   "cell_type": "code",
   "execution_count": 8,
   "metadata": {},
   "outputs": [
    {
     "name": "stdout",
     "output_type": "stream",
     "text": [
      "LinearRegression MAE:  $69.40\n",
      "LinearRegression RMSE: $109.23\n",
      "Predicted = $268.71 Actual $385.00 Error $-116.29\n",
      "Predicted = $131.17 Actual $40.00 Error $91.17\n",
      "Predicted = $147.85 Actual $120.00 Error $27.85\n",
      "Predicted = $210.13 Actual $113.00 Error $97.13\n",
      "Predicted = $191.24 Actual $80.00 Error $111.24\n",
      "Predicted = $93.32 Actual $82.00 Error $11.32\n",
      "Predicted = $177.27 Actual $168.00 Error $9.27\n",
      "Predicted = $126.34 Actual $45.00 Error $81.34\n",
      "Predicted = $135.17 Actual $58.00 Error $77.17\n",
      "Predicted = $178.72 Actual $170.00 Error $8.72\n",
      "Predicted = $264.32 Actual $400.00 Error $-135.68\n",
      "Predicted = $135.17 Actual $250.00 Error $-114.83\n",
      "Predicted = $67.36 Actual $100.00 Error $-32.64\n",
      "Predicted = $73.07 Actual $250.00 Error $-176.93\n",
      "Predicted = $142.10 Actual $75.00 Error $67.10\n",
      "Predicted = $116.53 Actual $60.00 Error $56.53\n",
      "Predicted = $-31.05 Actual $180.00 Error $-211.05\n",
      "Predicted = $91.07 Actual $150.00 Error $-58.93\n",
      "Predicted = $216.63 Actual $898.37 Error $-681.74\n",
      "Predicted = $405.10 Actual $279.00 Error $126.10\n"
     ]
    },
    {
     "name": "stderr",
     "output_type": "stream",
     "text": [
      "/home/ubuntu/.pyenv/versions/3.9.19/lib/python3.9/site-packages/sklearn/metrics/_regression.py:483: FutureWarning: 'squared' is deprecated in version 1.4 and will be removed in 1.6. To calculate the root mean squared error, use the function'root_mean_squared_error'.\n",
      "  warnings.warn(\n"
     ]
    }
   ],
   "source": [
    "lr = LinearRegression()\n",
    "lr.fit(X_train_tfidf, y_train)\n",
    "\n",
    "lr_y_prediction = lr.predict(X_test_tfidf.toarray())\n",
    "\n",
    "mae_lr  = mean_absolute_error(y_test, lr_y_prediction)\n",
    "rmse_lr = mean_squared_error(y_test, lr_y_prediction, squared=False)\n",
    "\n",
    "print(\"LinearRegression MAE:  $%.2f\" % mae_lr)\n",
    "print(\"LinearRegression RMSE: $%.2f\" % rmse_lr)\n",
    "\n",
    "for i in range(20):\n",
    "    prediction_price = lr_y_prediction[i]\n",
    "    real_price = y_test.to_numpy()[i]\n",
    "    error = prediction_price - real_price\n",
    "    print(\"Predicted = $%.2f\" % prediction_price, \"Actual $%.2f\" % real_price , \"Error $%.2f\" % error)\n"
   ]
  },
  {
   "cell_type": "code",
   "execution_count": 9,
   "metadata": {},
   "outputs": [
    {
     "data": {
      "image/png": "[encoded data removed]",
      "text/plain": [
       "<Figure size 640x480 with 1 Axes>"
      ]
     },
     "metadata": {},
     "output_type": "display_data"
    },
    {
     "data": {
      "image/png": "[encoded data removed]",
      "text/plain": [
       "<Figure size 640x480 with 1 Axes>"
      ]
     },
     "metadata": {},
     "output_type": "display_data"
    }
   ],
   "source": [
    "#Compare\n",
    "plt.figure()\n",
    "plt.hist(lr_y_prediction, bins = 50, label = \"Linear Reg\")\n",
    "plt.hist(y_test,bins=50, alpha=0.5, label='Actual prices')\n",
    "plt.xlabel('Actual Price')\n",
    "plt.ylabel('Predicted Price')\n",
    "plt.legend()\n",
    "plt.show()\n",
    "\n",
    "\n",
    "plt.figure()\n",
    "plt.hist(nn_y_prediction, bins = 50, label = \"Neural Network\")\n",
    "plt.hist(y_test, bins=50, alpha=0.5, label='Actual prices')\n",
    "plt.xlabel('Actual Price')\n",
    "plt.ylabel('Predicted Price')\n",
    "plt.legend()\n",
    "plt.show()\n"
   ]
  },
  {
   "cell_type": "markdown",
   "metadata": {},
   "source": [
    "In the end, I would like to try to expand this project with using the number of rooms the listing has. I also want to check out if the price will be affected if the listing has more accommodations. "
   ]
  },
  {
   "cell_type": "code",
   "execution_count": null,
   "metadata": {},
   "outputs": [],
   "source": []
  }
 ],
 "metadata": {
  "kernelspec": {
   "display_name": "Python 3 (ipykernel)",
   "language": "python",
   "name": "python3"
  },
  "language_info": {
   "codemirror_mode": {
    "name": "ipython",
    "version": 3
   },
   "file_extension": ".py",
   "mimetype": "text/x-python",
   "name": "python",
   "nbconvert_exporter": "python",
   "pygments_lexer": "ipython3",
   "version": "3.9.19"
  },
  "toc": {
   "base_numbering": 1,
   "nav_menu": {},
   "number_sections": false,
   "sideBar": true,
   "skip_h1_title": false,
   "title_cell": "Table of Contents",
   "title_sidebar": "Contents",
   "toc_cell": false,
   "toc_position": {},
   "toc_section_display": true,
   "toc_window_display": false
  },
  "varInspector": {
   "cols": {
    "lenName": 16,
    "lenType": 16,
    "lenVar": 40
   },
   "kernels_config": {
    "python": {
     "delete_cmd_postfix": "",
     "delete_cmd_prefix": "del ",
     "library": "var_list.py",
     "varRefreshCmd": "print(var_dic_list())"
    },
    "r": {
     "delete_cmd_postfix": ") ",
     "delete_cmd_prefix": "rm(",
     "library": "var_list.r",
     "varRefreshCmd": "cat(var_dic_list()) "
    }
   },
   "types_to_exclude": [
    "module",
    "function",
    "builtin_function_or_method",
    "instance",
    "_Feature"
   ],
   "window_display": false
  }
 },
 "nbformat": 4,
 "nbformat_minor": 4
}
